{
 "cells": [
  {
   "cell_type": "code",
   "execution_count": 69,
   "metadata": {},
   "outputs": [],
   "source": [
    "from selenium import webdriver\n",
    "from selenium.webdriver.chrome.options import Options\n",
    "import sqlite3\n",
    "from datetime import datetime as dt\n",
    "\n",
    "import pickle\n",
    "\n",
    "chrome_options = Options()\n",
    "#chrome_options.add_argument('--headless')\n",
    "chrome_options.add_argument('--no-sandbox')\n",
    "chrome_options.add_argument('--disable-dev-shm-usage')\n",
    "\n",
    "driver = webdriver.Chrome('/usr/bin/chromedriver',options=chrome_options)\n",
    "\n",
    "spiderman = \"https://www.amazon.com.mx/Spider-Man-Miles-Morales-Ultimate-PlayStation/dp/B08BQ9X4WQ/ref=sr_1_1?__mk_es_MX=%C3%85M%C3%85%C5%BD%C3%95%C3%91&dchild=1&keywords=spiderman+ps5&qid=1606876264&sr=8-1\"\n",
    "folder = \"https://www.amazon.com.mx/AmazonBasics-Carpetas-colgantes-archivos-tama%C3%B1o/dp/B00V5DGA14?ref_=ast_sto_dp\"\n",
    "silla = \"https://www.amazon.com.mx/Cosco-Taburete-plegable-hogar-Escalones/dp/B002AAZGQG?smid=AVDBXBAVVSXLQ&pf_rd_r=1EMTNEKRG1CP8XVFMVS3&pf_rd_p=4ad84182-3249-4ed0-aeb0-c151eda6f289\"\n",
    "pc = \"https://www.amazon.com.mx/Gamer-Intel-OCTAVA-GENERACION-240GB/dp/B07JW8YRDR/ref=lp_19788160011_1_2?s=electronics&ie=UTF8&qid=1606915388&sr=1-2\"\n",
    "\n",
    "driver.get(spiderman)\n",
    "p = driver.find_element_by_id(\"priceblock_ourprice\")  \n",
    "spider = float(p.text.replace(\"$\",\"\").replace(\",\",\"\"))\n",
    "\n",
    "driver.get(folder)\n",
    "p = driver.find_element_by_id(\"priceblock_ourprice\")  \n",
    "foldy = float(p.text.replace(\"$\",\"\").replace(\",\",\"\"))\n",
    "\n",
    "driver.get(pc)\n",
    "p = driver.find_element_by_id(\"priceblock_ourprice\")  \n",
    "compu = float(p.text.replace(\"$\",\"\").replace(\",\",\"\"))\n",
    "\n",
    "driver.get(silla) \n",
    "p = driver.find_element_by_id(\"priceblock_dealprice\")  \n",
    "sill = float(p.text.replace(\"$\",\"\").replace(\",\",\"\"))"
   ]
  },
  {
   "cell_type": "code",
   "execution_count": 68,
   "metadata": {},
   "outputs": [],
   "source": [
    "## Load data (deserialize)\n",
    "#with open('history.pickle', 'rb') as handle:\n",
    "#    history = pickle.load(handle)\n",
    "#history['Compu'] = {}\n",
    "\n",
    "#with open('history.pickle', 'wb') as handle:\n",
    "#    pickle.dump(history, handle, protocol=pickle.HIGHEST_PROTOCOL)"
   ]
  },
  {
   "cell_type": "code",
   "execution_count": 70,
   "metadata": {},
   "outputs": [],
   "source": [
    "# Load data (deserialize)\n",
    "with open('history.pickle', 'rb') as handle:\n",
    "    history = pickle.load(handle)\n",
    "\n",
    "    history['Spiderman'][dt.strftime(dt.today(),\"%d/%m/%Y\")] = spider\n",
    "    history['Folder'][dt.strftime(dt.today(),\"%d/%m/%Y\")] = foldy\n",
    "    history['Silla'][dt.strftime(dt.today(),\"%d/%m/%Y\")] = sill\n",
    "    history['Compu'][dt.strftime(dt.today(),\"%d/%m/%Y\")] = compu\n",
    "\n",
    "with open('history.pickle', 'wb') as handle:\n",
    "    pickle.dump(history, handle, protocol=pickle.HIGHEST_PROTOCOL)"
   ]
  },
  {
   "cell_type": "code",
   "execution_count": 71,
   "metadata": {},
   "outputs": [
    {
     "data": {
      "text/plain": [
       "{'Spiderman': {'02/12/2020': 1799.0},\n",
       " 'Folder': {'02/12/2020': 265.03},\n",
       " 'Silla': {'02/12/2020': 499.0},\n",
       " 'Compu': {'02/12/2020': 21295.0}}"
      ]
     },
     "execution_count": 71,
     "metadata": {},
     "output_type": "execute_result"
    }
   ],
   "source": [
    "history"
   ]
  },
  {
   "cell_type": "code",
   "execution_count": 21,
   "metadata": {},
   "outputs": [],
   "source": [
    "import pandas as pd\n",
    "conn = sqlite3.connect(\"sample.db\")\n",
    "\n",
    "\n",
    "with conn:\n",
    "    cur = conn.cursor()    \n",
    "    cur.execute(\"CREATE TABLE Population(id INTEGER PRIMARY KEY, country TEXT, population INT)\")\n",
    "    cur.execute(\"INSERT INTO Population VALUES(NULL,'Germany',81197537)\")\n",
    "    cur.execute(\"INSERT INTO Population VALUES(NULL,'France', 66415161)\")\n",
    "    cur.execute(\"INSERT INTO Population VALUES(NULL,'Spain', 46439864)\")\n",
    "    cur.execute(\"INSERT INTO Population VALUES(NULL,'Italy', 60795612)\")\n",
    "    cur.execute(\"INSERT INTO Population VALUES(NULL,'Spain', 46439864)\")\n",
    "\n"
   ]
  },
  {
   "cell_type": "code",
   "execution_count": 22,
   "metadata": {},
   "outputs": [
    {
     "name": "stdout",
     "output_type": "stream",
     "text": [
      "Germany\n",
      "France\n",
      "Italy\n"
     ]
    }
   ],
   "source": [
    "conn = sqlite3.connect('sample.db')\n",
    "query = \"SELECT country FROM Population WHERE population > 50000000;\"\n",
    "\n",
    "df = pd.read_sql_query(query,conn)\n",
    "\n",
    "for country in df['country']:\n",
    "    print(country)\n"
   ]
  },
  {
   "cell_type": "code",
   "execution_count": null,
   "metadata": {},
   "outputs": [],
   "source": []
  }
 ],
 "metadata": {
  "kernelspec": {
   "display_name": "Python 3",
   "language": "python",
   "name": "python3"
  },
  "language_info": {
   "codemirror_mode": {
    "name": "ipython",
    "version": 3
   },
   "file_extension": ".py",
   "mimetype": "text/x-python",
   "name": "python",
   "nbconvert_exporter": "python",
   "pygments_lexer": "ipython3",
   "version": "3.7.9"
  }
 },
 "nbformat": 4,
 "nbformat_minor": 4
}
